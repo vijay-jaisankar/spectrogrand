{
  "cells": [
    {
      "attachments": {},
      "cell_type": "markdown",
      "metadata": {
        "id": "Nywlzudq93NH"
      },
      "source": [
        "## Run the HyperIQA baseline for a custom image"
      ]
    },
    {
      "cell_type": "markdown",
      "metadata": {
        "id": "uUV2yRoo-Ci6"
      },
      "source": [
        "### Mount Drive"
      ]
    },
    {
      "cell_type": "code",
      "execution_count": 1,
      "metadata": {
        "colab": {
          "base_uri": "https://localhost:8080/"
        },
        "id": "9pny_Pg891Hs",
        "outputId": "865a5699-2996-408b-d713-25b3cc5da944"
      },
      "outputs": [
        {
          "name": "stdout",
          "output_type": "stream",
          "text": [
            "Mounted at /content/drive\n"
          ]
        }
      ],
      "source": [
        "from google.colab import drive\n",
        "drive.mount('/content/drive', force_remount=True)"
      ]
    },
    {
      "cell_type": "markdown",
      "metadata": {
        "id": "qD_hEe0h-Yi3"
      },
      "source": [
        "### Load images for testing"
      ]
    },
    {
      "cell_type": "code",
      "execution_count": 2,
      "metadata": {
        "colab": {
          "base_uri": "https://localhost:8080/"
        },
        "id": "2tEiNRdx-YLx",
        "outputId": "5c8545f4-ba52-4cc8-9efd-5bbe957b9622"
      },
      "outputs": [
        {
          "name": "stdout",
          "output_type": "stream",
          "text": [
            "/content/drive/MyDrive/hyper_iqa_model/DefenseIQA-NT\n"
          ]
        }
      ],
      "source": [
        "%cd /content/drive/MyDrive/hyper_iqa_model/DefenseIQA-NT/"
      ]
    },
    {
      "cell_type": "code",
      "execution_count": 3,
      "metadata": {
        "colab": {
          "base_uri": "https://localhost:8080/"
        },
        "id": "ezGRjF2YWaW8",
        "outputId": "61cf83ad-d551-47af-8042-1872b372922e"
      },
      "outputs": [
        {
          "name": "stdout",
          "output_type": "stream",
          "text": [
            "car_hs.jpeg  dog_hs.jpeg  matrix_hs.jpeg  robots_hs.jpeg  space_hs.jpeg\n",
            "car_ls.jpeg  dog_ls.jpeg  matrix_ls.jpeg  robots_ls.jpeg  space_ls.jpeg\n"
          ]
        }
      ],
      "source": [
        "!ls input_images"
      ]
    },
    {
      "cell_type": "markdown",
      "metadata": {
        "id": "xWDZK1HmEm5Y"
      },
      "source": [
        "## Inference script for custom image"
      ]
    },
    {
      "cell_type": "code",
      "execution_count": 9,
      "metadata": {
        "colab": {
          "base_uri": "https://localhost:8080/"
        },
        "id": "VjM-zUSzEoqu",
        "outputId": "28729d66-0e3f-40c2-9a56-cd747864c35a"
      },
      "outputs": [
        {
          "name": "stdout",
          "output_type": "stream",
          "text": [
            "crop_dir ./images_fixedcrop\n",
            "Patches saved to: ./images_fixedcrop\n",
            "/content/drive/MyDrive/hyper_iqa_model/DefenseIQA-NT/quality_and_norm_demo.py:100: UserWarning: To copy construct from a tensor, it is recommended to use sourceTensor.clone().detach() or sourceTensor.clone().detach().requires_grad_(True), rather than torch.tensor(sourceTensor).\n",
            "  img = torch.tensor(img.cuda()).unsqueeze(0)\n",
            "For ./input_images/dog_hs.jpeg, the L_1 norm of output's gradint in term of the input image:\n",
            "HyperIQA:5275.4965\n",
            "HyperIQA+NT:895.2145\n",
            "For ./input_images/dog_hs.jpeg, the predicted score of the image:\n",
            "HyperIQA:64.3036\n",
            "HyperIQA+NT:69.6424\n"
          ]
        }
      ],
      "source": [
        "input_image = \"./input_images/dog_hs.jpeg\"\n",
        "\n",
        "\n",
        "!python quality_and_norm_demo.py --regenerate_crops --img {input_image}"
      ]
    }
  ],
  "metadata": {
    "accelerator": "GPU",
    "colab": {
      "gpuType": "T4",
      "provenance": []
    },
    "kernelspec": {
      "display_name": "Python 3",
      "name": "python3"
    },
    "language_info": {
      "name": "python"
    }
  },
  "nbformat": 4,
  "nbformat_minor": 0
}
